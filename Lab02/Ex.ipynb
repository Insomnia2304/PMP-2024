{
 "cells": [
  {
   "cell_type": "markdown",
   "metadata": {},
   "source": [
    "a)"
   ]
  },
  {
   "cell_type": "code",
   "execution_count": 46,
   "metadata": {},
   "outputs": [
    {
     "name": "stdout",
     "output_type": "stream",
     "text": [
      "Probabilitatea de a extrage o bilă roșie: 0.3216\n"
     ]
    }
   ],
   "source": [
    "import numpy as np\n",
    "\n",
    "def is_prime(x):\n",
    "    if x < 2:\n",
    "        return False\n",
    "    div = 2\n",
    "    while div * div <= x:\n",
    "        if x % div == 0:\n",
    "            return False\n",
    "        div += 1\n",
    "    return True\n",
    "\n",
    "def dice_roll():\n",
    "    return np.random.randint(1, 7)\n",
    "\n",
    "def step():\n",
    "    balls = [3, 4, 2]\n",
    "    res = dice_roll()\n",
    "\n",
    "    if is_prime(res):\n",
    "        balls[2] += 1\n",
    "    elif res == 6:\n",
    "        balls[0] += 1\n",
    "    else:\n",
    "        balls[1] += 1\n",
    "\n",
    "    p = [balls[0]/sum(balls), balls[1]/sum(balls), balls[2]/sum(balls)]\n",
    "    return np.random.choice([0, 1, 2], p=p)\n",
    "\n",
    "N = 10_000\n",
    "red_count = 0\n",
    "\n",
    "for _ in range(N):\n",
    "    res = step()\n",
    "\n",
    "    if res == 0:\n",
    "        red_count += 1\n",
    "\n",
    "print(f'Probabilitatea de a extrage o bilă roșie: {red_count/N}')\n"
   ]
  },
  {
   "cell_type": "markdown",
   "metadata": {},
   "source": [
    "b) P(roșie)=P(prim)×P(roșie|prim)+P(6)×P(roșie|6)+P(1 sau 4)×P(roșie|1 sau 4) = 19/60 = 0.3167, probabilitate ce este reflectată și de experimentul de mai sus."
   ]
  }
 ],
 "metadata": {
  "kernelspec": {
   "display_name": "Python 3",
   "language": "python",
   "name": "python3"
  },
  "language_info": {
   "codemirror_mode": {
    "name": "ipython",
    "version": 3
   },
   "file_extension": ".py",
   "mimetype": "text/x-python",
   "name": "python",
   "nbconvert_exporter": "python",
   "pygments_lexer": "ipython3",
   "version": "3.12.7"
  }
 },
 "nbformat": 4,
 "nbformat_minor": 2
}
